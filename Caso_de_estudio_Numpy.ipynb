{
  "nbformat": 4,
  "nbformat_minor": 0,
  "metadata": {
    "colab": {
      "provenance": []
    },
    "kernelspec": {
      "name": "python3",
      "display_name": "Python 3"
    },
    "language_info": {
      "name": "python"
    }
  },
  "cells": [
    {
      "cell_type": "markdown",
      "source": [
        "## Actividad Práctica: Análisis Financiero con NumPy y NumPy Financial\n",
        "### Objetivo:\n",
        "Los estudiantes aplicarán los conceptos aprendidos de NumPy y NumPy Financial para realizar cálculos financieros en un contexto realista, utilizando matrices y funciones financieras. Esta actividad les permitirá consolidar sus habilidades en análisis numérico y financiero.\n",
        "\n",
        "Caso de Estudio:\n",
        "La empresa \"Finanzas Avanzadas\" desea evaluar la viabilidad de un nuevo proyecto de inversión a 5 años. Para ello, se deben calcular varios indicadores financieros utilizando las herramientas de NumPy y NumPy Financial. Los cálculos incluirán el Valor Presente Neto (VPN), el Valor Futuro (VF), la tasa interna de retorno (TIR), y la generación de una matriz de flujos de efectivo."
      ],
      "metadata": {
        "id": "Ud-1cjSAqaGk"
      }
    },
    {
      "cell_type": "markdown",
      "source": [
        "## **Parte 1: Generar Matriz de Flujos de Efectivo**\n",
        "Supongamos que la empresa hace una inversión inicial de $100,000 y espera generar los siguientes flujos de caja anuales (en miles de dólares) durante los próximos 5 años:\n",
        "\n",
        "![image.png](data:image/png;base64,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)"
      ],
      "metadata": {
        "id": "_Ml4uyjJqgVt"
      }
    },
    {
      "cell_type": "markdown",
      "source": [
        "Crea una matriz NumPy que represente estos flujos de caja"
      ],
      "metadata": {
        "id": "y4PXjaTqqnSM"
      }
    },
    {
      "cell_type": "code",
      "execution_count": 1,
      "metadata": {
        "colab": {
          "base_uri": "https://localhost:8080/"
        },
        "id": "GHZkGhgQqXEw",
        "outputId": "58782df2-48af-4f0f-a1b1-1d76e9fff1cf"
      },
      "outputs": [
        {
          "output_type": "stream",
          "name": "stdout",
          "text": [
            "Flujos de efectivo (miles de USD): [100  30  40  50  50  60]\n"
          ]
        }
      ],
      "source": [
        "import numpy as np\n",
        "\n",
        "# crear la matriz de flujos de efectivo\n",
        "\n",
        "inversion_inicial = 100\n",
        "flujos_efectivo = np.array([inversion_inicial,30,40,50,50,60])\n",
        "\n",
        "print (f\"Flujos de efectivo (miles de USD): {flujos_efectivo}\")"
      ]
    },
    {
      "cell_type": "markdown",
      "source": [
        "## **Parte 2: Calcular el Valor Presente Neto (VPN)**\n",
        "La tasa de descuento que se usará para calcular el VPN es del 8% anual. Usa la función npf.npv para calcular el valor presente neto del proyecto."
      ],
      "metadata": {
        "id": "fcAmQ3qXqqRO"
      }
    },
    {
      "cell_type": "code",
      "source": [
        "!pip install numpy-financial"
      ],
      "metadata": {
        "colab": {
          "base_uri": "https://localhost:8080/"
        },
        "id": "vHj89OzutPCZ",
        "outputId": "23306dc2-991e-475b-b838-4480a844e3ef"
      },
      "execution_count": 3,
      "outputs": [
        {
          "output_type": "stream",
          "name": "stdout",
          "text": [
            "Collecting numpy-financial\n",
            "  Downloading numpy_financial-1.0.0-py3-none-any.whl.metadata (2.2 kB)\n",
            "Requirement already satisfied: numpy>=1.15 in /usr/local/lib/python3.10/dist-packages (from numpy-financial) (1.26.4)\n",
            "Downloading numpy_financial-1.0.0-py3-none-any.whl (14 kB)\n",
            "Installing collected packages: numpy-financial\n",
            "Successfully installed numpy-financial-1.0.0\n"
          ]
        }
      ]
    },
    {
      "cell_type": "code",
      "source": [
        "import numpy_financial as npf\n",
        "\n",
        "#parametros del vpn\n",
        "\n",
        "tasa_descuento = 0.10\n",
        "\n",
        "# calcular vpn\n",
        "vpn = npf.npv(tasa_descuento, flujos_efectivo)\n",
        "\n",
        "print (f\"El Valor Presente Neto (VPN) del proyecto es : {vpn:.2f} miles de USD\")\n"
      ],
      "metadata": {
        "colab": {
          "base_uri": "https://localhost:8080/"
        },
        "id": "iNyacd_aqvJD",
        "outputId": "00c57ff7-7d7a-4068-cb37-226ea7708201"
      },
      "execution_count": 5,
      "outputs": [
        {
          "output_type": "stream",
          "name": "stdout",
          "text": [
            "El Valor Presente Neto (VPN) del proyecto es : 269.30 miles de USD\n"
          ]
        }
      ]
    },
    {
      "cell_type": "markdown",
      "source": [
        "Pregunta: ¿Qué sucede si la tasa de descuento es del 10% en lugar del 8%?"
      ],
      "metadata": {
        "id": "897P_Cp7qvVw"
      }
    },
    {
      "cell_type": "markdown",
      "source": [
        "## Parte 3: Cálculo del Valor Futuro (VF)\n",
        "La empresa también quiere saber cuál sería el valor futuro de los flujos de caja si la tasa de interés es del 5% anual. Utiliza la función npf.fv para calcular el valor futuro del proyecto al final de los 5 años."
      ],
      "metadata": {
        "id": "6DDY-D8qqwKW"
      }
    },
    {
      "cell_type": "code",
      "source": [],
      "metadata": {
        "id": "eK0d6muxq0nW"
      },
      "execution_count": null,
      "outputs": []
    },
    {
      "cell_type": "markdown",
      "source": [
        "Pregunta: ¿Cómo afectaría el valor futuro si la tasa de interés fuera del 3%?"
      ],
      "metadata": {
        "id": "GiqFdsXRq03q"
      }
    },
    {
      "cell_type": "markdown",
      "source": [],
      "metadata": {
        "id": "R0lUAQOdq2er"
      }
    },
    {
      "cell_type": "markdown",
      "source": [
        "### **Parte 4: Cálculo de la Tasa Interna de Retorno (TIR)**\n",
        "Utiliza la función npf.irr para calcular la TIR del proyecto. La TIR es la tasa de descuento que haría que el VPN sea igual a 0."
      ],
      "metadata": {
        "id": "7BH-g79Hq37e"
      }
    },
    {
      "cell_type": "code",
      "source": [],
      "metadata": {
        "id": "ac2nt1Ufq7Gq"
      },
      "execution_count": null,
      "outputs": []
    },
    {
      "cell_type": "markdown",
      "source": [
        "Pregunta: ¿Cómo interpretarías la TIR? ¿Es rentable este proyecto si la tasa mínima aceptable es del 8%?"
      ],
      "metadata": {
        "id": "lo0_0JgDq7au"
      }
    }
  ]
}