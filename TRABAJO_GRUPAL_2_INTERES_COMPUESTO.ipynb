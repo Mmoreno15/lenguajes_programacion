{
  "nbformat": 4,
  "nbformat_minor": 0,
  "metadata": {
    "colab": {
      "provenance": []
    },
    "kernelspec": {
      "name": "python3",
      "display_name": "Python 3"
    },
    "language_info": {
      "name": "python"
    }
  },
  "cells": [
    {
      "cell_type": "markdown",
      "source": [
        "##Formula\n",
        "Matemáticamente, el INTERES COMPUESTO se puede expresar de la siguiente manera:\n",
        "\n",
        "\\begin{equation}\n",
        "    A = P \\left(1 + \\frac{r}{n} \\right)^{nt}\n",
        "\\end{equation}\n"
      ],
      "metadata": {
        "id": "-Ic9oyOapA01"
      }
    },
    {
      "cell_type": "code",
      "execution_count": 15,
      "metadata": {
        "id": "a9BlsAZroshZ"
      },
      "outputs": [],
      "source": [
        "# Datos iniciales\n",
        "P = 1000  # Monto inicial\n",
        "r = 0.05  # Tasa de interés anual\n",
        "n = 12  # Número de capitalizaciones por año (mensual)\n",
        "t = 10  # Años"
      ]
    },
    {
      "cell_type": "code",
      "source": [
        "# Fórmula de interés compuesto\n",
        "A = P * (1 + r/n) ** (n*t)\n",
        "print(A)"
      ],
      "metadata": {
        "colab": {
          "base_uri": "https://localhost:8080/"
        },
        "id": "G5GhH6_juG5Y",
        "outputId": "4b9261c5-697c-4426-c0e8-73330c41de37"
      },
      "execution_count": 14,
      "outputs": [
        {
          "output_type": "stream",
          "name": "stdout",
          "text": [
            "1647.00949769028\n"
          ]
        }
      ]
    },
    {
      "cell_type": "markdown",
      "source": [],
      "metadata": {
        "id": "Ae1_ZdGBo4CS"
      }
    },
    {
      "cell_type": "code",
      "source": [
        "# Impresión del resultado\n",
        "print(f\"El monto final después de {t} años es: ${A:.2f}\")\n"
      ],
      "metadata": {
        "colab": {
          "base_uri": "https://localhost:8080/"
        },
        "id": "jO8bBWMfuMp6",
        "outputId": "85bf9f95-7395-4964-99ab-05a1fb8ac785"
      },
      "execution_count": 11,
      "outputs": [
        {
          "output_type": "stream",
          "name": "stdout",
          "text": [
            "El monto final después de 10 años es: $1647.01\n"
          ]
        }
      ]
    },
    {
      "cell_type": "code",
      "source": [
        "#Condicional\n",
        "if A > 0:\n",
        "    print(\"**la inversion es rentable.**\")\n",
        "else:\n",
        "    print(\"**la inversion no es rentable.**\")"
      ],
      "metadata": {
        "id": "pjMj8qV7uOyS"
      },
      "execution_count": null,
      "outputs": []
    }
  ]
}