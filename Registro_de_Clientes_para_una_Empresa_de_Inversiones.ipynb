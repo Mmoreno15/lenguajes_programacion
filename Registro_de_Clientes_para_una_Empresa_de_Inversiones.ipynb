{
  "nbformat": 4,
  "nbformat_minor": 0,
  "metadata": {
    "colab": {
      "provenance": []
    },
    "kernelspec": {
      "name": "python3",
      "display_name": "Python 3"
    },
    "language_info": {
      "name": "python"
    }
  },
  "cells": [
    {
      "cell_type": "markdown",
      "source": [
        "# **Descripción**\n",
        "\n",
        "En esta aplicación, los estudiantes simularán el registro de clientes para una empresa de inversiones. Usarán listas, tuplas y diccionarios para almacenar y gestionar información básica sobre los clientes, sus inversiones y el rendimiento de estas. El ejercicio no requiere el uso de ciclos o bucles, y cada operación se realizará de forma explícita."
      ],
      "metadata": {
        "id": "nYRnN-KLI4Ix"
      }
    },
    {
      "cell_type": "markdown",
      "source": [
        "## Paso a Paso de la Aplicación\n",
        "1. **Datos Iniciales del Registro de Clientes**\n",
        "Los estudiantes deben crear listas para almacenar la información básica de los clientes, como el nombre, el monto invertido y el rendimiento obtenido."
      ],
      "metadata": {
        "id": "PZIEw-7SI-2s"
      }
    },
    {
      "cell_type": "code",
      "execution_count": 1,
      "metadata": {
        "id": "3ID7lSJaIy_X"
      },
      "outputs": [],
      "source": [
        "# Listas para almacenar información de clientes\n",
        "clientes = [\"Juan Perez\", \"Maria Rodriguez\", \"Carlos Lopez\"]\n",
        "montos_invertidos = [10000, 15000, 20000]  # en dólares\n",
        "rendimientos = [5.0, 6.5, 7.0]  # en porcentaje\n",
        "\n"
      ]
    },
    {
      "cell_type": "markdown",
      "source": [
        "2. **Crear Tuplas para Cada Cliente**\n",
        "Cada cliente tendrá una tupla que contenga su nombre, el monto invertido y el rendimiento obtenido. Esta información es inmutable."
      ],
      "metadata": {
        "id": "1O-iPIbXKbTm"
      }
    },
    {
      "cell_type": "markdown",
      "source": [
        "3. **Organizar los Datos en un Diccionario**\n",
        "Crear un diccionario llamado registro_clientes donde cada clave sea el nombre de un cliente y el valor sea un diccionario con detalles del monto invertido y el rendimiento."
      ],
      "metadata": {
        "id": "kVFvpWF5KipP"
      }
    },
    {
      "cell_type": "markdown",
      "source": [
        "4. **Calcular el Rendimiento Total de un Cliente**\n",
        "Usando el diccionario registro_clientes, los estudiantes calcularán el rendimiento total (en dólares) de un cliente específico, por ejemplo, \"Maria Rodriguez\"."
      ],
      "metadata": {
        "id": "hitAKVLXKnXQ"
      }
    },
    {
      "cell_type": "markdown",
      "source": [
        "5. **Actualizar el Monto Invertido de un Cliente**\n",
        "Los estudiantes deben actualizar el monto_invertido de \"Carlos Lopez\" en el diccionario registro_clientes a un nuevo valor (por ejemplo, 25000)."
      ],
      "metadata": {
        "id": "qattAT40Kw_l"
      }
    },
    {
      "cell_type": "markdown",
      "source": [
        "6. **Añadir un Nuevo Cliente al Registro**\n",
        "Añadir un nuevo cliente llamado \"Ana Gomez\" al diccionario registro_clientes con un monto_invertido de 18000 y un rendimiento de 5.8%."
      ],
      "metadata": {
        "id": "_MWWTlDiKzrh"
      }
    },
    {
      "cell_type": "markdown",
      "source": [
        "7. **Remover un Cliente del Registro**\n",
        "Remover al cliente \"Juan Perez\" del diccionario registro_clientes."
      ],
      "metadata": {
        "id": "WhxURQlJK5Gp"
      }
    },
    {
      "cell_type": "markdown",
      "source": [],
      "metadata": {
        "id": "lQTq2rLNK-aW"
      }
    }
  ]
}