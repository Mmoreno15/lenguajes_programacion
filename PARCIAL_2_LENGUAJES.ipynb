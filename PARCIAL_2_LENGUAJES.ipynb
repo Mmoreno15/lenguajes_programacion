{
  "nbformat": 4,
  "nbformat_minor": 0,
  "metadata": {
    "colab": {
      "provenance": []
    },
    "kernelspec": {
      "name": "python3",
      "display_name": "Python 3"
    },
    "language_info": {
      "name": "python"
    }
  },
  "cells": [
    {
      "cell_type": "code",
      "source": [
        "# Parte 1: Declaración de Variables y Listas\n",
        "clientes = [\"Juan Perez\", \"Maria Rodriguez\", \"Carlos Lopez\", \"Ana Gomez\"]\n",
        "montos_invertidos = [10000, 15000, 20000, 18000]\n",
        "rendimientos = [5.5, 6.0, 4.0, 7.5]\n"
      ],
      "metadata": {
        "id": "_Rjo85PB74Ki"
      },
      "execution_count": 22,
      "outputs": []
    },
    {
      "cell_type": "code",
      "source": [
        "# Parte 2: Uso de Diccionarios y Condicionales\n",
        "# Almacenar los Datos en un Diccionario\n",
        "portafolio = {\n",
        "    \"Juan Perez\": {\"monto_invertido\": 10000, \"rendimiento\": 5.5},\n",
        "    \"Maria Rodriguez\": {\"monto_invertido\": 15000, \"rendimiento\": 6.0},\n",
        "    \"Carlos Lopez\": {\"monto_invertido\": 20000, \"rendimiento\": 4.0},\n",
        "    \"Ana Gomez\": {\"monto_invertido\": 18000, \"rendimiento\": 7.5}\n",
        "}"
      ],
      "metadata": {
        "id": "yFdGBLu_8msm"
      },
      "execution_count": 23,
      "outputs": []
    },
    {
      "cell_type": "code",
      "source": [
        "# Evaluación del Rendimiento de los Clientes\n",
        "print(\"Clientes con rendimiento superior al 5%:\")\n",
        "for cliente, datos in portafolio.items():\n",
        "    if datos[\"rendimiento\"] > 5:\n",
        "        print(f\"{cliente} tiene un rendimiento de {datos['rendimiento']}%\")\n"
      ],
      "metadata": {
        "colab": {
          "base_uri": "https://localhost:8080/"
        },
        "id": "SH2LPD438AuP",
        "outputId": "beb5b144-e13f-4a69-cab2-1022b5a47899"
      },
      "execution_count": 24,
      "outputs": [
        {
          "output_type": "stream",
          "name": "stdout",
          "text": [
            "Clientes con rendimiento superior al 5%:\n",
            "Juan Perez tiene un rendimiento de 5.5%\n",
            "Maria Rodriguez tiene un rendimiento de 6.0%\n",
            "Ana Gomez tiene un rendimiento de 7.5%\n"
          ]
        }
      ]
    },
    {
      "cell_type": "code",
      "source": [
        "# Parte 3: Cálculos con Ciclos\n",
        "# Calcular el Rendimiento Total del Portafolio\n",
        "rendimiento_total = 0\n",
        "for cliente, datos in portafolio.items():\n",
        "    rendimiento_cliente = (datos[\"monto_invertido\"] * datos[\"rendimiento\"]) / 100\n",
        "    rendimiento_total += rendimiento_cliente\n",
        "\n",
        "print(f\"El rendimiento total del portafolio es: ${rendimiento_total:.2f}\")\n"
      ],
      "metadata": {
        "colab": {
          "base_uri": "https://localhost:8080/"
        },
        "id": "lVMqSKra8DnQ",
        "outputId": "49cf0de8-1107-4548-fa87-9cfbb5162780"
      },
      "execution_count": 25,
      "outputs": [
        {
          "output_type": "stream",
          "name": "stdout",
          "text": [
            "El rendimiento total del portafolio es: $3600.00\n"
          ]
        }
      ]
    },
    {
      "cell_type": "code",
      "source": [
        "# Identificar al Cliente con Mayor Rendimiento Absoluto\n",
        "top_cliente = \"\"\n",
        "max_rendimiento = 0\n",
        "for cliente, datos in portafolio.items():\n",
        "    rendimiento_cliente = (datos[\"monto_invertido\"] * datos[\"rendimiento\"]) / 100\n",
        "    if rendimiento_cliente > max_rendimiento:\n",
        "        max_rendimiento = rendimiento_cliente\n",
        "        top_cliente = cliente\n",
        "\n",
        "print(f\"El cliente con mayor rendimiento absoluto es {top_cliente} con un rendimiento de ${max_rendimiento:.2f}\")\n"
      ],
      "metadata": {
        "colab": {
          "base_uri": "https://localhost:8080/"
        },
        "id": "2gXMU59I8GkY",
        "outputId": "c81a5270-5528-4113-b7bd-6fc45ede3c71"
      },
      "execution_count": 26,
      "outputs": [
        {
          "output_type": "stream",
          "name": "stdout",
          "text": [
            "El cliente con mayor rendimiento absoluto es Ana Gomez con un rendimiento de $1350.00\n"
          ]
        }
      ]
    },
    {
      "cell_type": "code",
      "source": [
        "# Parte 4: Modificaciones del Portafolio\n",
        "# Actualizar el Monto Invertido de Carlos Lopez\n",
        "portafolio[\"Carlos Lopez\"][\"monto_invertido\"] = 25000\n"
      ],
      "metadata": {
        "id": "I4OnHKAD8JfR"
      },
      "execution_count": 27,
      "outputs": []
    },
    {
      "cell_type": "code",
      "source": [
        "# Añadir un Nuevo Cliente al Portafolio\n",
        "portafolio[\"Laura Fernandez\"] = {\"monto_invertido\": 22000, \"rendimiento\": 6.8}"
      ],
      "metadata": {
        "id": "THISXgyx8KSp"
      },
      "execution_count": 28,
      "outputs": []
    },
    {
      "cell_type": "code",
      "source": [
        "# Remover a un Cliente del Portafolio\n",
        "del portafolio[\"Ana Gomez\"]"
      ],
      "metadata": {
        "id": "2KsBzUX-8N6Q"
      },
      "execution_count": 29,
      "outputs": []
    },
    {
      "cell_type": "code",
      "source": [
        "# Imprimir el portafolio actualizado\n",
        "print(\"Portafolio actualizado:\")\n",
        "for cliente, datos in portafolio.items():\n",
        "    print(f\"{cliente}: {datos}\")\n"
      ],
      "metadata": {
        "colab": {
          "base_uri": "https://localhost:8080/"
        },
        "id": "IrtWeMcU8QPK",
        "outputId": "79e8ae64-0cb8-4764-9000-9bf8ff740464"
      },
      "execution_count": null,
      "outputs": [
        {
          "output_type": "stream",
          "name": "stdout",
          "text": [
            "Portafolio actualizado:\n",
            "Juan Perez: {'monto_invertido': 10000, 'rendimiento': 5.5}\n",
            "Maria Rodriguez: {'monto_invertido': 15000, 'rendimiento': 6.0}\n",
            "Carlos Lopez: {'monto_invertido': 20000, 'rendimiento': 4.0}\n",
            "Laura Fernandez: {'monto_invertido': 22000, 'rendimiento': 6.8}\n"
          ]
        }
      ]
    },
    {
      "cell_type": "code",
      "execution_count": null,
      "metadata": {
        "id": "MczrnB_x7xYV"
      },
      "outputs": [],
      "source": []
    }
  ]
}