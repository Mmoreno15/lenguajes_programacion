{
  "nbformat": 4,
  "nbformat_minor": 0,
  "metadata": {
    "colab": {
      "provenance": []
    },
    "kernelspec": {
      "name": "python3",
      "display_name": "Python 3"
    },
    "language_info": {
      "name": "python"
    }
  },
  "cells": [
    {
      "cell_type": "code",
      "source": [
        "# Parte 1: Declaración de Variables y Listas\n",
        "clientes = [\"Juan Perez\", \"Maria Rodriguez\", \"Carlos Lopez\", \"Ana Gomez\"]\n",
        "montos_invertidos = [10000, 15000, 20000, 18000]\n",
        "rendimientos = [5.5, 6.0, 4.0, 7.5]\n"
      ],
      "metadata": {
        "id": "_Rjo85PB74Ki"
      },
      "execution_count": 6,
      "outputs": []
    },
    {
      "cell_type": "code",
      "source": [
        "# Crear Tuplas para Almacenar la Información\n",
        "cliente_1 = (clientes[0], montos_invertidos[0], rendimientos[0])\n",
        "cliente_2 = (clientes[1], montos_invertidos[1], rendimientos[1])\n",
        "cliente_3 = (clientes[2], montos_invertidos[2], rendimientos[2])\n",
        "cliente_4 = (clientes[3], montos_invertidos[3], rendimientos[3])\n"
      ],
      "metadata": {
        "id": "3YRKwiC2N0VD"
      },
      "execution_count": 7,
      "outputs": []
    },
    {
      "cell_type": "code",
      "source": [
        "# Parte 2: Uso de Diccionarios y Condicionales\n",
        "# Almacenar los Datos en un Diccionario\n",
        "portafolio = {\n",
        "    \"Juan Perez\": {\"monto_invertido\": 10000, \"rendimiento\": 5.5},\n",
        "    \"Maria Rodriguez\": {\"monto_invertido\": 15000, \"rendimiento\": 6.0},\n",
        "    \"Carlos Lopez\": {\"monto_invertido\": 20000, \"rendimiento\": 4.0},\n",
        "    \"Ana Gomez\": {\"monto_invertido\": 18000, \"rendimiento\": 7.5}\n",
        "}"
      ],
      "metadata": {
        "id": "yFdGBLu_8msm"
      },
      "execution_count": 8,
      "outputs": []
    },
    {
      "cell_type": "code",
      "source": [
        "# Evaluación del Rendimiento de los Clientes\n",
        "print(\"Clientes con rendimiento superior al 5%:\")\n",
        "for cliente, datos in portafolio.items():\n",
        "    if datos[\"rendimiento\"] > 5:\n",
        "        print(f\"{cliente} tiene un rendimiento de {datos['rendimiento']}%\")\n"
      ],
      "metadata": {
        "colab": {
          "base_uri": "https://localhost:8080/"
        },
        "id": "SH2LPD438AuP",
        "outputId": "e111cf50-c3e8-4552-aae7-87969d4491d2"
      },
      "execution_count": 9,
      "outputs": [
        {
          "output_type": "stream",
          "name": "stdout",
          "text": [
            "Clientes con rendimiento superior al 5%:\n",
            "Juan Perez tiene un rendimiento de 5.5%\n",
            "Maria Rodriguez tiene un rendimiento de 6.0%\n",
            "Ana Gomez tiene un rendimiento de 7.5%\n"
          ]
        }
      ]
    },
    {
      "cell_type": "code",
      "source": [
        "# Parte 3: Cálculos con Ciclos\n",
        "# Calcular el Rendimiento Total del Portafolio\n",
        "rendimiento_total = 0\n",
        "for cliente, datos in portafolio.items():\n",
        "    rendimiento_cliente = (datos[\"monto_invertido\"] * datos[\"rendimiento\"]) / 100\n",
        "    rendimiento_total += rendimiento_cliente\n",
        "\n",
        "print(f\"El rendimiento total del portafolio es: ${rendimiento_total:.2f}\")\n"
      ],
      "metadata": {
        "colab": {
          "base_uri": "https://localhost:8080/"
        },
        "id": "lVMqSKra8DnQ",
        "outputId": "14b3fefd-9650-4ec1-c01b-1f5ee2fd88db"
      },
      "execution_count": 10,
      "outputs": [
        {
          "output_type": "stream",
          "name": "stdout",
          "text": [
            "El rendimiento total del portafolio es: $3600.00\n"
          ]
        }
      ]
    },
    {
      "cell_type": "code",
      "source": [
        "# Identificar al Cliente con Mayor Rendimiento Absoluto\n",
        "top_cliente = \"\"\n",
        "max_rendimiento = 0\n",
        "for cliente, datos in portafolio.items():\n",
        "    rendimiento_cliente = (datos[\"monto_invertido\"] * datos[\"rendimiento\"]) / 100\n",
        "    if rendimiento_cliente > max_rendimiento:\n",
        "        max_rendimiento = rendimiento_cliente\n",
        "        top_cliente = cliente\n",
        "\n",
        "print(f\"El cliente con mayor rendimiento absoluto es {top_cliente} con un rendimiento de ${max_rendimiento:.2f}\")\n"
      ],
      "metadata": {
        "colab": {
          "base_uri": "https://localhost:8080/"
        },
        "id": "2gXMU59I8GkY",
        "outputId": "e79c3f9c-c2d1-487c-c5e4-18001aade023"
      },
      "execution_count": 11,
      "outputs": [
        {
          "output_type": "stream",
          "name": "stdout",
          "text": [
            "El cliente con mayor rendimiento absoluto es Ana Gomez con un rendimiento de $1350.00\n"
          ]
        }
      ]
    },
    {
      "cell_type": "code",
      "source": [
        "# Parte 4: Modificaciones del Portafolio\n",
        "# Actualizar el Monto Invertido de Carlos Lopez\n",
        "portafolio [\"Carlos Lopez\"][\"monto_invertido\"] = 25000\n",
        "print(\"\\nActualizacion de monto de Carlos Lopez a $25,000\")\n"
      ],
      "metadata": {
        "id": "I4OnHKAD8JfR",
        "colab": {
          "base_uri": "https://localhost:8080/"
        },
        "outputId": "d6a28054-d4b0-4be1-beb5-cf114f967f4e"
      },
      "execution_count": 12,
      "outputs": [
        {
          "output_type": "stream",
          "name": "stdout",
          "text": [
            "\n",
            "Actualizacion de monto de Carlos Lopez a $25,000\n"
          ]
        }
      ]
    },
    {
      "cell_type": "code",
      "source": [
        "# Añadir un Nuevo Cliente al Portafolio\n",
        "portafolio[\"Laura Fernandez\"] = {\"monto_invertido\": 22000, \"rendimiento\": 6.8}\n",
        "print(\"Se agregó a Laura Fernandez con inversión de $22,000 y rendimiento del 6.8%\")"
      ],
      "metadata": {
        "id": "THISXgyx8KSp"
      },
      "execution_count": 13,
      "outputs": []
    },
    {
      "cell_type": "code",
      "source": [
        "# Remover a un Cliente del Portafolio\n",
        "del portafolio[\"Ana Gomez\"]\n",
        "print(\"Se removió a Ana Gomez del portafolio\")"
      ],
      "metadata": {
        "id": "2KsBzUX-8N6Q",
        "colab": {
          "base_uri": "https://localhost:8080/",
          "height": 176
        },
        "outputId": "bb65bd7c-c3bd-4020-d2e7-52cb98b644d0"
      },
      "execution_count": 17,
      "outputs": [
        {
          "output_type": "error",
          "ename": "KeyError",
          "evalue": "'Ana Gomez'",
          "traceback": [
            "\u001b[0;31m---------------------------------------------------------------------------\u001b[0m",
            "\u001b[0;31mKeyError\u001b[0m                                  Traceback (most recent call last)",
            "\u001b[0;32m<ipython-input-17-611a7e44b671>\u001b[0m in \u001b[0;36m<cell line: 0>\u001b[0;34m()\u001b[0m\n\u001b[1;32m      1\u001b[0m \u001b[0;31m# Remover a un Cliente del Portafolio\u001b[0m\u001b[0;34m\u001b[0m\u001b[0;34m\u001b[0m\u001b[0m\n\u001b[0;32m----> 2\u001b[0;31m \u001b[0;32mdel\u001b[0m \u001b[0mportafolio\u001b[0m\u001b[0;34m[\u001b[0m\u001b[0;34m\"Ana Gomez\"\u001b[0m\u001b[0;34m]\u001b[0m\u001b[0;34m\u001b[0m\u001b[0;34m\u001b[0m\u001b[0m\n\u001b[0m\u001b[1;32m      3\u001b[0m \u001b[0mprint\u001b[0m\u001b[0;34m(\u001b[0m\u001b[0;34m\"Se removió a Ana Gomez del portafolio\"\u001b[0m\u001b[0;34m)\u001b[0m\u001b[0;34m\u001b[0m\u001b[0;34m\u001b[0m\u001b[0m\n",
            "\u001b[0;31mKeyError\u001b[0m: 'Ana Gomez'"
          ]
        }
      ]
    },
    {
      "cell_type": "code",
      "source": [
        "# Imprimir el portafolio actualizado\n",
        "print(\"Portafolio actualizado:\")\n",
        "for cliente, datos in portafolio.items():\n",
        "    print(f\"{cliente}: {datos}\")\n"
      ],
      "metadata": {
        "colab": {
          "base_uri": "https://localhost:8080/"
        },
        "id": "IrtWeMcU8QPK",
        "outputId": "a734ead2-3bc5-4cb5-a2a0-e5fcb26c9894"
      },
      "execution_count": 15,
      "outputs": [
        {
          "output_type": "stream",
          "name": "stdout",
          "text": [
            "Portafolio actualizado:\n",
            "Juan Perez: {'monto_invertido': 10000, 'rendimiento': 5.5}\n",
            "Maria Rodriguez: {'monto_invertido': 15000, 'rendimiento': 6.0}\n",
            "Carlos Lopez: {'monto_invertido': 25000, 'rendimiento': 4.0}\n",
            "Laura Fernandez: {'monto_invertido': 22000, 'rendimiento': 6.8}\n"
          ]
        }
      ]
    },
    {
      "cell_type": "code",
      "execution_count": null,
      "metadata": {
        "id": "MczrnB_x7xYV"
      },
      "outputs": [],
      "source": []
    }
  ]
}