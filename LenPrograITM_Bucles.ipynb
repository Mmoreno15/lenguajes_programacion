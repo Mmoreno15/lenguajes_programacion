{
  "cells": [
    {
      "cell_type": "markdown",
      "metadata": {
        "id": "fJhicIGBvJ9c"
      },
      "source": [
        "<h1>Loops en Python</h1>"
      ]
    },
    {
      "cell_type": "markdown",
      "metadata": {
        "id": "o42tlT4NvJ9c"
      },
      "source": [
        "¡Bienvenid@s! Este cuaderno te enseñará sobre los bucles en el lenguaje de programación Python. Al final de este laboratorio, sabrás cómo usar las sentencias de bucle en Python, incluidos los bucles for y while."
      ]
    },
    {
      "cell_type": "markdown",
      "metadata": {
        "id": "Srw0Fh_NvJ9c"
      },
      "source": [
        "<h2>Tabla de contenidos </h2>\n",
        "<div class=\"alert alert-block alert-info\" style=\"margin-top: 20px\">\n",
        "    <ul>\n",
        "        <li>\n",
        "            <a href=\"#loop\">Loops</a>\n",
        "            <ul>\n",
        "                <li><a href=\"range\">Range</a></li>\n",
        "                <li><a href=\"for\">¿Qué es el blucle <code>for</code>?</a></li>\n",
        "                <li><a href=\"while\">¿Qué es el blucle <code>while</code>?</a></li>\n",
        "            </ul>\n",
        "        </li>\n",
        "        <li>\n",
        "            <a href=\"#quiz\">Cuestionarios sobre Bucles</a>\n",
        "        </li>\n",
        "    </ul>\n",
        "\n",
        "</div>\n",
        "\n",
        "<hr>"
      ]
    },
    {
      "cell_type": "markdown",
      "metadata": {
        "id": "VpUUUAN7vJ9c"
      },
      "source": [
        "<h2 id=\"loop\">Loops</h2>"
      ]
    },
    {
      "cell_type": "markdown",
      "metadata": {
        "id": "_9TnesHxvJ9d"
      },
      "source": [
        "<h3 id=\"range\">Range</h3>"
      ]
    },
    {
      "cell_type": "markdown",
      "metadata": {
        "id": "OHcoDULgvJ9d"
      },
      "source": [
        "A veces, puede que quieras repetir una operación varias veces. Ejecuciones repetidas como esta se realizan mediante bucles.\n",
        "\n",
        "En Python, la función range genera una secuencia de números. Esto es muy útil en bucles, permitiendo especificar cuántas veces repetir una operación."
      ]
    },
    {
      "cell_type": "code",
      "execution_count": null,
      "metadata": {
        "id": "fVZh27ROvJ9e"
      },
      "outputs": [],
      "source": [
        "# Use the range\n",
        "\n",
        "range(3)"
      ]
    },
    {
      "cell_type": "markdown",
      "metadata": {
        "id": "hKz-4_JzvJ9e"
      },
      "source": [
        "<img src=\"https://s3-api.us-geo.objectstorage.softlayer.net/cf-courses-data/CognitiveClass/PY0101EN/Chapter%203/Images/LoopsRange.png\" width=\"300\" />"
      ]
    },
    {
      "cell_type": "markdown",
      "metadata": {
        "id": "rJualsugvJ9f"
      },
      "source": [
        "<h3 id=\"for\">What is <code>for</code> loop?</h3>"
      ]
    },
    {
      "cell_type": "markdown",
      "metadata": {
        "id": "TCrcRU-tvJ9f"
      },
      "source": [
        "El Bucle <code>for</code>  se utiliza para repetir un bloque de código un número específico de veces. Por ejemplo, puedes usar un bucle for para recorrer todos los elementos de una lista o ejecutar una acción un número específico de veces.\n",
        "\n"
      ]
    },
    {
      "cell_type": "markdown",
      "metadata": {
        "id": "skuOhDGqvJ9f"
      },
      "source": [
        "Ejemplo"
      ]
    },
    {
      "cell_type": "code",
      "execution_count": null,
      "metadata": {
        "id": "DxIJcwWuvJ9f",
        "outputId": "aacbb235-2418-4041-9a88-9ba8d8a61bf9"
      },
      "outputs": [
        {
          "name": "stdout",
          "output_type": "stream",
          "text": [
            "1982\n",
            "1980\n",
            "1973\n"
          ]
        }
      ],
      "source": [
        "# Ejemplo de bucle For\n",
        "\n",
        "dates = [1982,1980,1973]\n",
        "N = len(dates)\n",
        "\n",
        "for i in range(N):\n",
        "    print(dates[i])"
      ]
    },
    {
      "cell_type": "markdown",
      "metadata": {
        "id": "Y_68FUdovJ9g"
      },
      "source": [
        "El código en la indentación se ejecuta <code>N</code> veces, y cada vez el valor de <code>i</code> se incrementa en 1 en cada ejecución. La instrucción que se ejecuta es para <code>imprimir</code> el valor en la lista en el índice <code>i</code>, como se muestra aquí:"
      ]
    },
    {
      "cell_type": "markdown",
      "metadata": {
        "id": "pAMGHbJ9vJ9h"
      },
      "source": [
        "<img src=\"https://s3-api.us-geo.objectstorage.softlayer.net/cf-courses-data/CognitiveClass/PY0101EN/Chapter%203/Images/LoopsForRange.gif\" width=\"800\" />"
      ]
    },
    {
      "cell_type": "markdown",
      "metadata": {
        "id": "dzKvxV41vJ9h"
      },
      "source": [
        "En este ejemplo, podemos imprimir una secuencia de números del 0 al 7:"
      ]
    },
    {
      "cell_type": "code",
      "execution_count": null,
      "metadata": {
        "id": "sGbWLH5EvJ9h",
        "outputId": "c4f770a1-f4fe-43e9-ae4a-f3acc3c462c3"
      },
      "outputs": [
        {
          "name": "stdout",
          "output_type": "stream",
          "text": [
            "0\n",
            "1\n",
            "2\n",
            "3\n",
            "4\n",
            "5\n",
            "6\n",
            "7\n"
          ]
        }
      ],
      "source": [
        "# Ejemplo uso For\n",
        "\n",
        "for i in range(0, 8):\n",
        "    print(i)"
      ]
    },
    {
      "cell_type": "markdown",
      "metadata": {
        "id": "1Ch2kkUVvJ9h"
      },
      "source": [
        "En Python, podemos acceder directamente a los elementos de la lista de la siguiente manera:"
      ]
    },
    {
      "cell_type": "code",
      "execution_count": null,
      "metadata": {
        "id": "Ut2T_zCBvJ9h",
        "outputId": "f1baae69-c873-42ba-b907-b75ec377a71e"
      },
      "outputs": [
        {
          "name": "stdout",
          "output_type": "stream",
          "text": [
            "1982\n",
            "1980\n",
            "1973\n"
          ]
        }
      ],
      "source": [
        "# Exmaple of for loop, loop through list\n",
        "\n",
        "for year in dates:\n",
        "    print(year)"
      ]
    },
    {
      "cell_type": "markdown",
      "metadata": {
        "id": "Uii4EmqJvJ9h"
      },
      "source": [
        "En cada iteración, el valor de la variable <code>years</code> se comporta como el valor de <code>dates[i]</code> en el primer ejemplo:"
      ]
    },
    {
      "cell_type": "markdown",
      "metadata": {
        "id": "vSFfyhItvJ9i"
      },
      "source": [
        "<img src=\"https://s3-api.us-geo.objectstorage.softlayer.net/cf-courses-data/CognitiveClass/PY0101EN/Chapter%203/Images/LoopsForList.gif\" width=\"800\">"
      ]
    },
    {
      "cell_type": "markdown",
      "metadata": {
        "id": "EYnJNdAQvJ9i"
      },
      "source": [
        "Podemos cambiar los elementos en una lista:"
      ]
    },
    {
      "cell_type": "code",
      "execution_count": null,
      "metadata": {
        "colab": {
          "base_uri": "https://localhost:8080/"
        },
        "id": "qx4KxhrSvJ9i",
        "outputId": "dc87fd31-0e71-4e04-de88-c11cb7388d15"
      },
      "outputs": [
        {
          "output_type": "stream",
          "name": "stdout",
          "text": [
            "Antes el cuadrado  0 es rojo\n",
            "Después el cuadrado  0 es peso\n",
            "Antes el cuadrado  1 es amarillo\n",
            "Después el cuadrado  1 es peso\n",
            "Antes el cuadrado  2 es verde\n",
            "Después el cuadrado  2 es peso\n",
            "Antes el cuadrado  3 es morado\n",
            "Después el cuadrado  3 es peso\n",
            "Antes el cuadrado  4 es azul\n",
            "Después el cuadrado  4 es peso\n"
          ]
        }
      ],
      "source": [
        "# Usar un bucle for para cambiar los elementos en la lista\n",
        "\n",
        "squares = ['rojo', 'amarillo', 'verde', 'morado', 'azul']\n",
        "\n",
        "for i in range(0, 5):\n",
        "    print(\"Antes el cuadrado \", i, 'es',  squares[i])\n",
        "    squares[i] = 'peso'\n",
        "    print(\"Después el cuadrado \", i, 'es',  squares[i])"
      ]
    },
    {
      "cell_type": "markdown",
      "metadata": {
        "id": "QJJqWD_zvJ9i"
      },
      "source": [
        "Podemos acceder al índice y a los elementos de una lista de la siguiente manera:"
      ]
    },
    {
      "cell_type": "code",
      "execution_count": null,
      "metadata": {
        "colab": {
          "base_uri": "https://localhost:8080/"
        },
        "id": "Y9jRXaS6vJ9i",
        "outputId": "6d69aa0a-44bb-408c-ada8-0d08dd33c618"
      },
      "outputs": [
        {
          "output_type": "stream",
          "name": "stdout",
          "text": [
            "0 rojo\n",
            "1 amarillo\n",
            "2 verde\n",
            "3 morado\n",
            "4 azul\n"
          ]
        }
      ],
      "source": [
        "# Recorra la lista e itere tanto en el índice como en el valor del elemento\n",
        "\n",
        "squares=['rojo', 'amarillo', 'verde', 'morado', 'azul']\n",
        "\n",
        "for i, square in enumerate(squares):\n",
        "    print(i, square)"
      ]
    },
    {
      "cell_type": "markdown",
      "metadata": {
        "id": "btB8PmmsvJ9i"
      },
      "source": [
        "<h3 id=\"while\">¿Qué es el bucle <code>while</code>?</h3>"
      ]
    },
    {
      "cell_type": "markdown",
      "metadata": {
        "id": "5da3wZc0vJ9i"
      },
      "source": [
        "El bucle while repite un bloque de código siempre que una condición sea verdadera. A diferencia del bucle for, no necesitas saber de antemano cuántas veces se ejecutará el bloque de código; solo se detiene cuando la condición ya no se cumple.\n"
      ]
    },
    {
      "cell_type": "markdown",
      "metadata": {
        "id": "zjy8JhoUvJ9i"
      },
      "source": [
        "\n",
        "Digamos que nos gustaría recorrer la lista de fechas y detenernos en el año 1973, luego imprimir el número de iteraciones. Esto se puede hacer con el siguiente bloque de código:"
      ]
    },
    {
      "cell_type": "code",
      "execution_count": null,
      "metadata": {
        "colab": {
          "base_uri": "https://localhost:8080/"
        },
        "id": "4uJRFSo9vJ9i",
        "outputId": "442690dd-5792-4f52-fb9b-327537d1de7f"
      },
      "outputs": [
        {
          "output_type": "stream",
          "name": "stdout",
          "text": [
            "1982\n",
            "1980\n",
            "1973\n",
            "Se necesitaron 3 repeticiones para salir del bucle.\n"
          ]
        }
      ],
      "source": [
        "# Ejemplo bucle while\n",
        "\n",
        "dates = [1982, 1980, 1973, 2000]\n",
        "\n",
        "i = 0\n",
        "year = 0\n",
        "\n",
        "while(year != 1973):\n",
        "    year = dates[i]\n",
        "    i = i + 1\n",
        "    print(year)\n",
        "\n",
        "print(\"Se necesitaron\", i ,\"repeticiones para salir del bucle.\")"
      ]
    },
    {
      "cell_type": "markdown",
      "metadata": {
        "id": "rBqURy4LvJ9j"
      },
      "source": [
        "Un bucle while se itera simplemente hasta que no se cumple la condición del argumento, como se muestra en la siguiente figura:"
      ]
    },
    {
      "cell_type": "markdown",
      "metadata": {
        "id": "6bSZzrQHvJ9j"
      },
      "source": [
        "<img src=\"https://s3-api.us-geo.objectstorage.softlayer.net/cf-courses-data/CognitiveClass/PY0101EN/Chapter%203/Images/LoopsWhile.gif\" width=\"650\" />"
      ]
    },
    {
      "cell_type": "markdown",
      "metadata": {
        "id": "P7HOLCvwvJ9j"
      },
      "source": [
        "<hr>"
      ]
    },
    {
      "cell_type": "markdown",
      "metadata": {
        "id": "---qiKaDvJ9j"
      },
      "source": [
        "<h2 id=\"Cuestionario\">Repasemos Bucles</h2>"
      ]
    },
    {
      "cell_type": "markdown",
      "metadata": {
        "id": "iYq1yWzKvJ9j"
      },
      "source": [
        "Escriba un bucle <code>for</code> que imprima todos los elementos entre <b>-5</b> y <b>5</b> usando la función de rango."
      ]
    },
    {
      "cell_type": "code",
      "execution_count": null,
      "metadata": {
        "colab": {
          "base_uri": "https://localhost:8080/"
        },
        "id": "13VEydczvJ9j",
        "outputId": "8f487b72-29a2-47d7-c95d-22af9ea3fef0"
      },
      "outputs": [
        {
          "output_type": "stream",
          "name": "stdout",
          "text": [
            "-5\n",
            "-4\n",
            "-3\n",
            "-2\n",
            "-1\n",
            "0\n",
            "1\n",
            "2\n",
            "3\n",
            "4\n",
            "5\n"
          ]
        }
      ],
      "source": [
        "for i in range(-5,6):\n",
        "    print (i)# Escriba su código a continuación y presione Shift+Enter para ejecutar"
      ]
    },
    {
      "cell_type": "markdown",
      "metadata": {
        "id": "2lyisJB7vJ9j"
      },
      "source": [
        "Double-click __here__ for the solution.\n",
        "<!--\n",
        "for i in range(-5, 6):\n",
        "    print(i)\n",
        "-->"
      ]
    },
    {
      "cell_type": "markdown",
      "metadata": {
        "id": "oMT-9RjlvJ9j"
      },
      "source": [
        "\n",
        "Imprima los elementos de la siguiente lista:\n",
        "<code>Géneros=[ 'rock', 'R&B', 'Banda sonora', 'R&B', 'soul', 'pop']</code>\n",
        "Asegúrese de seguir las convenciones de Python."
      ]
    },
    {
      "cell_type": "code",
      "execution_count": null,
      "metadata": {
        "colab": {
          "base_uri": "https://localhost:8080/"
        },
        "id": "5i7XQLMIvJ9j",
        "outputId": "9aa2dc5d-77be-4796-96f4-6f47c4ce13cb"
      },
      "outputs": [
        {
          "output_type": "stream",
          "name": "stdout",
          "text": [
            "['rock', 'R&B', 'Banda sonora', 'R&B', 'soul', 'pop']\n",
            "['rock', 'R&B', 'Banda sonora', 'R&B', 'soul', 'pop']\n",
            "['rock', 'R&B', 'Banda sonora', 'R&B', 'soul', 'pop']\n",
            "['rock', 'R&B', 'Banda sonora', 'R&B', 'soul', 'pop']\n",
            "['rock', 'R&B', 'Banda sonora', 'R&B', 'soul', 'pop']\n",
            "['rock', 'R&B', 'Banda sonora', 'R&B', 'soul', 'pop']\n"
          ]
        }
      ],
      "source": [
        "# Write your code below and press Shift+Enter to execute\n",
        "\n",
        "Generos=[ 'rock', 'R&B', 'Banda sonora', 'R&B', 'soul', 'pop']\n",
        "for Genre in(Generos):\n",
        "    print(Generos)"
      ]
    },
    {
      "cell_type": "markdown",
      "metadata": {
        "id": "cNcfsgYLvJ9o"
      },
      "source": [
        "Double-click __here__ for the solution.\n",
        "<!--\n",
        "Genres = ['rock', 'R&B', 'Soundtrack', 'R&B', 'soul', 'pop']\n",
        "for Genre in Genres:\n",
        "    print(Genre)\n",
        "-->"
      ]
    },
    {
      "cell_type": "markdown",
      "metadata": {
        "id": "Qdvo3nkevJ9o"
      },
      "source": [
        "<hr>"
      ]
    },
    {
      "cell_type": "markdown",
      "metadata": {
        "id": "HhL7UchavJ9o"
      },
      "source": [
        "Escriba un bucle for que imprima la siguiente lista: <code>cuadrados=['rojo', 'amarillo', 'verde', 'púrpura', 'azul']</code>"
      ]
    },
    {
      "cell_type": "code",
      "execution_count": null,
      "metadata": {
        "colab": {
          "base_uri": "https://localhost:8080/"
        },
        "id": "neRjXSr2vJ9o",
        "outputId": "7bcc90f6-ec59-4820-fa57-02161c612aea"
      },
      "outputs": [
        {
          "output_type": "stream",
          "name": "stdout",
          "text": [
            "red\n",
            "yellow\n",
            "green\n",
            "purple\n",
            "blue\n"
          ]
        }
      ],
      "source": [
        "# Escriba su código a continuación y presione Shift+Enter para ejecutar\n",
        "\n",
        "squares=['red', 'yellow', 'green', 'purple', 'blue']\n",
        "\n",
        "for square in squares:\n",
        "    print (square)"
      ]
    },
    {
      "cell_type": "markdown",
      "metadata": {
        "id": "KzvujkO3vJ9p"
      },
      "source": [
        "Double-click __here__ for the solution.\n",
        "<!--\n",
        "squares=['red', 'yellow', 'green', 'purple', 'blue']\n",
        "for square in squares:\n",
        "    print(square)\n",
        " -->"
      ]
    },
    {
      "cell_type": "markdown",
      "metadata": {
        "id": "laxlN7wyvJ9p"
      },
      "source": [
        "<hr>"
      ]
    },
    {
      "cell_type": "markdown",
      "metadata": {
        "id": "hJakfAtHvJ9p"
      },
      "source": [
        "Write a while loop to display the values of the Rating of an album playlist stored in the list <code>PlayListRatings</code>. If the score is less than 6, exit the loop. The list <code>PlayListRatings</code> is given by: <code>PlayListRatings = [10, 9.5, 10, 8, 7.5, 5, 10, 10]</code>"
      ]
    },
    {
      "cell_type": "code",
      "execution_count": null,
      "metadata": {
        "collapsed": true,
        "id": "PGTAv_OkvJ9p",
        "outputId": "d202de85-38f0-4084-81bb-91b5618b3294"
      },
      "outputs": [
        {
          "name": "stdout",
          "output_type": "stream",
          "text": [
            "10\n",
            "10\n",
            "9.5\n",
            "10\n",
            "8\n",
            "7.5\n"
          ]
        }
      ],
      "source": [
        "# Write your code below and press Shift+Enter to execute\n",
        "\n",
        "PlayListRatings = [10, 9.5, 10, 8, 7.5, 5, 10, 10]\n",
        "i=0\n",
        "score= PlayListRatings[0]\n",
        "while (score > 6):\n",
        "    print (score)\n",
        "    score = PlayListRatings[i]\n",
        "    i= i+1\n"
      ]
    },
    {
      "cell_type": "markdown",
      "metadata": {
        "id": "tiPmgPlFvJ9p"
      },
      "source": [
        "Double-click __here__ for the solution.\n",
        "<!--\n",
        "PlayListRatings = [10, 9.5, 10, 8, 7.5, 5, 10, 10]\n",
        "i = 1\n",
        "Rating = PlayListRatings[0]\n",
        "while(Rating >= 6):\n",
        "    print(Rating)\n",
        "    Rating = PlayListRatings[i]\n",
        "    i = i + 1\n",
        " -->"
      ]
    },
    {
      "cell_type": "markdown",
      "metadata": {
        "id": "GFqD9F5WvJ9p"
      },
      "source": [
        "<hr>"
      ]
    },
    {
      "cell_type": "markdown",
      "metadata": {
        "id": "xElxm7sjvJ9p"
      },
      "source": [
        "Write a while loop to copy the strings <code>'orange'</code> of the list <code>squares</code> to the list <code>new_squares</code>. Stop and exit the loop if the value on the list is not <code>'orange'</code>:"
      ]
    },
    {
      "cell_type": "code",
      "execution_count": null,
      "metadata": {
        "id": "Q8KK6MuWvJ9p",
        "outputId": "9582fc01-3c92-4100-e6bf-dc1f3e16339f"
      },
      "outputs": [
        {
          "name": "stdout",
          "output_type": "stream",
          "text": [
            "['orange', 'orange']\n"
          ]
        }
      ],
      "source": [
        "# Write your code below and press Shift+Enter to execute\n",
        "\n",
        "squares = ['orange', 'orange', 'purple', 'blue ', 'orange']\n",
        "new_squares = []\n",
        "i=0\n",
        "\n",
        "while (squares [i] == \"orange\"):\n",
        "    new_squares.append(squares[i])\n",
        "    i=i+1\n",
        "\n",
        "print (new_squares)"
      ]
    },
    {
      "cell_type": "markdown",
      "metadata": {
        "id": "VwObqXMwvJ9p"
      },
      "source": [
        "Double-click __here__ for the solution.\n",
        "<!--\n",
        "squares = ['orange', 'orange', 'purple', 'blue ', 'orange']\n",
        "new_squares = []\n",
        "i = 0\n",
        "while(squares[i] == 'orange'):\n",
        "    new_squares.append(squares[i])\n",
        "    i = i + 1\n",
        "print (new_squares)\n",
        " -->"
      ]
    },
    {
      "cell_type": "markdown",
      "metadata": {
        "id": "tYnf1XI_vJ9q"
      },
      "source": [
        "<hr>"
      ]
    }
  ],
  "metadata": {
    "kernelspec": {
      "display_name": "Python 3",
      "language": "python",
      "name": "python3"
    },
    "language_info": {
      "codemirror_mode": {
        "name": "ipython",
        "version": 3
      },
      "file_extension": ".py",
      "mimetype": "text/x-python",
      "name": "python",
      "nbconvert_exporter": "python",
      "pygments_lexer": "ipython3",
      "version": "3.6.8"
    },
    "colab": {
      "provenance": []
    }
  },
  "nbformat": 4,
  "nbformat_minor": 0
}